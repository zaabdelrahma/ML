{
  "nbformat": 4,
  "nbformat_minor": 0,
  "metadata": {
    "colab": {
      "name": "set_blue.ipynb",
      "provenance": [],
      "include_colab_link": true
    },
    "kernelspec": {
      "name": "python3",
      "display_name": "Python 3"
    },
    "language_info": {
      "name": "python"
    }
  },
  "cells": [
    {
      "cell_type": "markdown",
      "metadata": {
        "id": "view-in-github",
        "colab_type": "text"
      },
      "source": [
        "<a href=\"https://colab.research.google.com/github/zaabdelrahma/ML/blob/main/set_blue.ipynb\" target=\"_parent\"><img src=\"https://colab.research.google.com/assets/colab-badge.svg\" alt=\"Open In Colab\"/></a>"
      ]
    },
    {
      "cell_type": "code",
      "execution_count": 5,
      "metadata": {
        "colab": {
          "base_uri": "https://localhost:8080/"
        },
        "id": "gWknfVb6Yive",
        "outputId": "ab25822e-05db-4da8-aebd-3f0dc949be9f"
      },
      "outputs": [
        {
          "output_type": "stream",
          "name": "stdout",
          "text": [
            "4.1.2\n"
          ]
        }
      ],
      "source": [
        "#QUESTION 1\n",
        "import cv2 as cv \n",
        "\n",
        "print (cv.__version__)"
      ]
    },
    {
      "cell_type": "code",
      "source": [
        "#QUESTION 2\n",
        "img = cv.imread('set_blue.jpg')"
      ],
      "metadata": {
        "id": "3aSGdezWdJu_"
      },
      "execution_count": 6,
      "outputs": []
    },
    {
      "cell_type": "code",
      "source": [
        "#Set Red channel #2 to 0. #0 for Blue and #1 for Green\n",
        "img[:,:,2] = 0 "
      ],
      "metadata": {
        "id": "wq5gIbDXfDOu"
      },
      "execution_count": 7,
      "outputs": []
    },
    {
      "cell_type": "code",
      "source": [
        "#Saving the image changes into a new jpg file\n",
        "img1 = cv.imwrite('set_RED.jpg', img)"
      ],
      "metadata": {
        "id": "u274nYDlf5bZ"
      },
      "execution_count": 8,
      "outputs": []
    }
  ]
}